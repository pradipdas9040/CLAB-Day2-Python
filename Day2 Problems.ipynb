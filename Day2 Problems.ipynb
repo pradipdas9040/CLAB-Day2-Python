{
 "cells": [
  {
   "cell_type": "markdown",
   "id": "fd569707",
   "metadata": {},
   "source": [
    "***An n-digit number is SPECIAL if the addition of its sum of the\n",
    "digits and the product of its digits equals to the original\n",
    "number. E.g., 19 is a SPECIAL 2-digit number. Write a\n",
    "program to verify whether a given number is SPECIAL or not.\n",
    "Extend this program to verify whether there exists any\n",
    "SPECIAL number for a given value of number of digits n.***"
   ]
  },
  {
   "cell_type": "code",
   "execution_count": 1,
   "id": "a89860da",
   "metadata": {},
   "outputs": [
    {
     "name": "stdout",
     "output_type": "stream",
     "text": [
      "Enter a number:19\n",
      "Special\n"
     ]
    }
   ],
   "source": [
    "n = int(input(\"Enter a number:\"))\n",
    "a = []\n",
    "m = n\n",
    "while n!=0:\n",
    "    a.append(n%10)\n",
    "    n = int(n/10)\n",
    "Sum = 0\n",
    "Mul = 1\n",
    "for i in range (len(a)):\n",
    "    Sum += a[i]\n",
    "    Mul *= a[i]\n",
    "if(Sum + Mul == m):\n",
    "    print('Special')\n",
    "else:\n",
    "    print('Not Special')"
   ]
  },
  {
   "cell_type": "markdown",
   "id": "73dc387c",
   "metadata": {},
   "source": [
    "***Consider an n-digit number. Square it and add the right n\n",
    "digits to the left n or n-1 digits. If the resultant sum is same\n",
    "as the original number, then it is called a Kaprekar number.\n",
    "E.g., 45 is a Kaprekar number. Write a program to verify\n",
    "whether a given number is Kaprekar or not.***"
   ]
  },
  {
   "cell_type": "code",
   "execution_count": 2,
   "id": "05491eeb",
   "metadata": {},
   "outputs": [
    {
     "name": "stdout",
     "output_type": "stream",
     "text": [
      "Enter a number:297\n"
     ]
    }
   ],
   "source": [
    "import numpy as np\n",
    "m = int(input(\"Enter a number:\"))\n",
    "n = m**2\n",
    "a = []\n",
    "sum1 = 0\n",
    "sum2 = 0\n",
    "while n!=0:\n",
    "    a.append(n%10)\n",
    "    n = int(n/10)"
   ]
  },
  {
   "cell_type": "code",
   "execution_count": 3,
   "id": "8549e4c6",
   "metadata": {},
   "outputs": [
    {
     "data": {
      "text/plain": [
       "[array([9, 0, 2]), array([8, 8])]"
      ]
     },
     "execution_count": 3,
     "metadata": {},
     "output_type": "execute_result"
    }
   ],
   "source": [
    "splits = np.array_split(a, 2)\n",
    "splits"
   ]
  },
  {
   "cell_type": "code",
   "execution_count": 4,
   "id": "53720d4b",
   "metadata": {},
   "outputs": [],
   "source": [
    "A = list(splits[0])\n",
    "B = list(splits[1])"
   ]
  },
  {
   "cell_type": "code",
   "execution_count": 5,
   "id": "4d11c957",
   "metadata": {},
   "outputs": [],
   "source": [
    "for i in range(len(A)):\n",
    "    sum1 += A[i]*(10**i)"
   ]
  },
  {
   "cell_type": "code",
   "execution_count": 6,
   "id": "93111ecd",
   "metadata": {},
   "outputs": [],
   "source": [
    "for i in range(len(B)):\n",
    "    sum2 += B[i]*(10**i)"
   ]
  },
  {
   "cell_type": "code",
   "execution_count": 7,
   "id": "516d6f7e",
   "metadata": {},
   "outputs": [
    {
     "name": "stdout",
     "output_type": "stream",
     "text": [
      "Kaprekar\n"
     ]
    }
   ],
   "source": [
    "if(sum1+sum2 == m):\n",
    "    print('Kaprekar')\n",
    "else:\n",
    "    print('Not Kaprekar')"
   ]
  }
 ],
 "metadata": {
  "kernelspec": {
   "display_name": "Python 3 (ipykernel)",
   "language": "python",
   "name": "python3"
  },
  "language_info": {
   "codemirror_mode": {
    "name": "ipython",
    "version": 3
   },
   "file_extension": ".py",
   "mimetype": "text/x-python",
   "name": "python",
   "nbconvert_exporter": "python",
   "pygments_lexer": "ipython3",
   "version": "3.10.2"
  }
 },
 "nbformat": 4,
 "nbformat_minor": 5
}
