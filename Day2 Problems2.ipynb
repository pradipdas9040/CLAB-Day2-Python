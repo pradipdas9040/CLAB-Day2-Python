{
 "cells": [
  {
   "cell_type": "markdown",
   "id": "a64f76ad",
   "metadata": {},
   "source": [
    "***Let us define a string, comprising English alphabets, as NICE\n",
    "if each vowel within it are equidistant from its successor and\n",
    "predecessor vowel, if applicable. E.g., \"rhythm\", \"cool\",\n",
    "\"malayalam\" are NICE strings. Write a program to verify\n",
    "whether a given string is NICE or not. You are required to\n",
    "take the string as a direct input without asking for its length.***"
   ]
  },
  {
   "cell_type": "code",
   "execution_count": 1,
   "id": "f5661ca8",
   "metadata": {},
   "outputs": [],
   "source": [
    "def ckeckList(lst):\n",
    "  \n",
    "    ele = lst[0]\n",
    "    chk = True\n",
    "      \n",
    "    # Comparing each element with first item \n",
    "    for item in lst:\n",
    "        if ele != item:\n",
    "            chk = False\n",
    "            break;\n",
    "              \n",
    "    if (chk == True): return 1\n",
    "    else: return 0"
   ]
  },
  {
   "cell_type": "code",
   "execution_count": 2,
   "id": "311f6947",
   "metadata": {},
   "outputs": [
    {
     "name": "stdout",
     "output_type": "stream",
     "text": [
      "Enter a string: Malayalam\n"
     ]
    }
   ],
   "source": [
    "n = input('Enter a string: ')\n",
    "a = list(n)\n",
    "vowel_pos = []\n",
    "vowel_dis = []"
   ]
  },
  {
   "cell_type": "code",
   "execution_count": 3,
   "id": "7ce00f20",
   "metadata": {},
   "outputs": [],
   "source": [
    "for i in range(len(a)):\n",
    "    if (a[i]=='a' or a[i]=='e' or a[i]=='i' or a[i]=='o' or a[i]=='u' or\n",
    "                a[i]=='A' or a[i]=='E' or a[i]=='I' or a[i]=='O' or a[i]=='U'):\n",
    "        vowel_pos.append(i)"
   ]
  },
  {
   "cell_type": "code",
   "execution_count": 4,
   "id": "4d8675cb",
   "metadata": {},
   "outputs": [
    {
     "name": "stdout",
     "output_type": "stream",
     "text": [
      "Nice!\n"
     ]
    }
   ],
   "source": [
    "if(len(vowel_pos) <= 2):\n",
    "    print('Nice!')\n",
    "else:\n",
    "    for i in range(len(vowel_pos)-1):\n",
    "        vowel_dis.append(vowel_pos[i+1]-vowel_pos[i])\n",
    "    if(ckeckList(vowel_dis)):\n",
    "        print('Nice!')\n",
    "    else:\n",
    "        print('Not Nice!')"
   ]
  },
  {
   "attachments": {
    "Screenshot%202022-06-18%20111218.png": {
     "image/png": "[encoded data removed]"
    }
   },
   "cell_type": "markdown",
   "id": "615760a2",
   "metadata": {},
   "source": [
    "***Write a program to print the following pattern using generic\n",
    "controls over print. Let the line number be user input.***\n",
    "![Screenshot%202022-06-18%20111218.png](attachment:Screenshot%202022-06-18%20111218.png)"
   ]
  },
  {
   "cell_type": "code",
   "execution_count": 5,
   "id": "13a9cfb0",
   "metadata": {},
   "outputs": [
    {
     "name": "stdout",
     "output_type": "stream",
     "text": [
      "Enter a number: 4\n"
     ]
    }
   ],
   "source": [
    "n = int(input('Enter a number: '))"
   ]
  },
  {
   "cell_type": "code",
   "execution_count": 6,
   "id": "a9c7a74f",
   "metadata": {},
   "outputs": [
    {
     "name": "stdout",
     "output_type": "stream",
     "text": [
      "*     *\n",
      " *   * \n",
      "  * *  \n",
      "   *   \n",
      "  * *  \n",
      " *   * \n",
      "*     *\n"
     ]
    }
   ],
   "source": [
    "for i in range(1,2*n):\n",
    "    for j in range(1,2*n):\n",
    "        if i==j or j==2*n-i :\n",
    "            print('*', end='')\n",
    "        else: print(' ', end='')\n",
    "    print()"
   ]
  }
 ],
 "metadata": {
  "kernelspec": {
   "display_name": "Python 3 (ipykernel)",
   "language": "python",
   "name": "python3"
  },
  "language_info": {
   "codemirror_mode": {
    "name": "ipython",
    "version": 3
   },
   "file_extension": ".py",
   "mimetype": "text/x-python",
   "name": "python",
   "nbconvert_exporter": "python",
   "pygments_lexer": "ipython3",
   "version": "3.10.2"
  }
 },
 "nbformat": 4,
 "nbformat_minor": 5
}
