{
 "cells": [
  {
   "cell_type": "markdown",
   "id": "2f595563",
   "metadata": {},
   "source": [
    "***1. Suppose a list of strings are given as user input. Write a\n",
    "program to verify whether the ordering of common distinct characters\n",
    "in the last string preserves the ordering of characters in all the\n",
    "preceding strings. Note that, conflicts of ordering might exist\n",
    "in the preceding strings.***\n",
    "Note: The inputs apple, apollo, apl preserves the\n",
    "ordering but not the inputs capacity, pacific, cap."
   ]
  },
  {
   "cell_type": "code",
   "execution_count": 1,
   "id": "13874dc3",
   "metadata": {},
   "outputs": [
    {
     "name": "stdout",
     "output_type": "stream",
     "text": [
      "Enter steings: apple apollo apl\n"
     ]
    },
    {
     "data": {
      "text/plain": [
       "[['a', 'p', 'p', 'l', 'e'], ['a', 'p', 'o', 'l', 'l', 'o'], ['a', 'p', 'l']]"
      ]
     },
     "execution_count": 1,
     "metadata": {},
     "output_type": "execute_result"
    }
   ],
   "source": [
    "User_input = list(list(input(\"Enter steings: \").split()))\n",
    "User_input = [list(i) for i in User_input]\n",
    "User_input"
   ]
  },
  {
   "cell_type": "code",
   "execution_count": 2,
   "id": "4a476323",
   "metadata": {},
   "outputs": [],
   "source": [
    "def common_member(a, b):\n",
    "    a_set = set(a)\n",
    "    b_set = set(b)\n",
    " \n",
    "    if (a_set & b_set):\n",
    "        Set = (a_set & b_set)\n",
    "    return Set"
   ]
  },
  {
   "cell_type": "code",
   "execution_count": 3,
   "id": "d080d5b3",
   "metadata": {},
   "outputs": [
    {
     "data": {
      "text/plain": [
       "['l', 'a', 'p']"
      ]
     },
     "execution_count": 3,
     "metadata": {},
     "output_type": "execute_result"
    }
   ],
   "source": [
    "Set = list(User_input[0])\n",
    "for i in range(1,len(User_input)):\n",
    "    Set = common_member(User_input[i], Set)\n",
    "    Set = list(Set)\n",
    "Set"
   ]
  },
  {
   "cell_type": "code",
   "execution_count": 4,
   "id": "ccbce001",
   "metadata": {},
   "outputs": [
    {
     "data": {
      "text/plain": [
       "6"
      ]
     },
     "execution_count": 4,
     "metadata": {},
     "output_type": "execute_result"
    }
   ],
   "source": [
    "m = max(len(User_input[i]) for i in range(len(User_input)))\n",
    "m"
   ]
  },
  {
   "cell_type": "code",
   "execution_count": 5,
   "id": "5494d6af",
   "metadata": {},
   "outputs": [
    {
     "data": {
      "text/plain": [
       "[['a', 'p', 'p', 'l'], ['a', 'p', 'l', 'l'], ['a', 'p', 'l']]"
      ]
     },
     "execution_count": 5,
     "metadata": {},
     "output_type": "execute_result"
    }
   ],
   "source": [
    "for k in range(m):\n",
    "    for i in range(len(User_input)):\n",
    "        for j in User_input[i]:\n",
    "            if j not in Set:\n",
    "                User_input[i].remove(j)\n",
    "User_input"
   ]
  },
  {
   "cell_type": "code",
   "execution_count": 6,
   "id": "5615deac",
   "metadata": {},
   "outputs": [
    {
     "data": {
      "text/plain": [
       "[['a', 'p', 'l'], ['a', 'p', 'l'], ['a', 'p', 'l']]"
      ]
     },
     "execution_count": 6,
     "metadata": {},
     "output_type": "execute_result"
    }
   ],
   "source": [
    "remove_dup = []\n",
    "for i in range(len(User_input)):\n",
    "    result = [] \n",
    "    for j in User_input[i]: \n",
    "        if j not in result: \n",
    "            result.append(j)\n",
    "    remove_dup.append(result)\n",
    "remove_dup"
   ]
  },
  {
   "cell_type": "code",
   "execution_count": 7,
   "id": "53150199",
   "metadata": {},
   "outputs": [],
   "source": [
    "def equ_check(b):\n",
    "    ret = 1\n",
    "    i = 0\n",
    "    while(i<len(b)-1):\n",
    "        if b[i] != b[i+1]:\n",
    "            ret = 0\n",
    "            break\n",
    "        i += 1\n",
    "    return ret"
   ]
  },
  {
   "cell_type": "code",
   "execution_count": 8,
   "id": "08fc1275",
   "metadata": {},
   "outputs": [
    {
     "name": "stdout",
     "output_type": "stream",
     "text": [
      "Order Preserving\n"
     ]
    }
   ],
   "source": [
    "if(equ_check(remove_dup)):\n",
    "    print('Order Preserving')\n",
    "else: print('Not Order Preserving')"
   ]
  },
  {
   "cell_type": "markdown",
   "id": "7c377d80",
   "metadata": {},
   "source": [
    "***2. Suppose there are two separate files containing sufficiently\n",
    "large integer values. Write a program that will take those two\n",
    "file names as user inputs and return the addition result.***\n",
    "Note: An efficient implementation will not depend on the\n",
    "primary memory of the system."
   ]
  },
  {
   "cell_type": "code",
   "execution_count": 9,
   "id": "cfbb4418",
   "metadata": {},
   "outputs": [],
   "source": [
    "def read(file):\n",
    "    f = open(file, 'r')\n",
    "    output = f.read()\n",
    "    f.close()\n",
    "    return int(output)"
   ]
  },
  {
   "cell_type": "code",
   "execution_count": 10,
   "id": "c3c04d9b",
   "metadata": {},
   "outputs": [
    {
     "name": "stdout",
     "output_type": "stream",
     "text": [
      "Enter 1st file name: Data1\n",
      "Enter 2nd file name: Data2\n"
     ]
    }
   ],
   "source": [
    "file1, file2 = input('Enter 1st file name: '), input('Enter 2nd file name: ')\n",
    "A = read(file1+'.txt')\n",
    "B = read(file2+'.txt')"
   ]
  },
  {
   "cell_type": "code",
   "execution_count": 11,
   "id": "bfb3b96a",
   "metadata": {},
   "outputs": [
    {
     "name": "stdout",
     "output_type": "stream",
     "text": [
      "456456456   453643213\n"
     ]
    }
   ],
   "source": [
    "print(A,' ',B)"
   ]
  },
  {
   "cell_type": "code",
   "execution_count": 12,
   "id": "0aa11772",
   "metadata": {},
   "outputs": [
    {
     "name": "stdout",
     "output_type": "stream",
     "text": [
      "Addition of two number containing this file:  910099669\n"
     ]
    }
   ],
   "source": [
    "print('Addition of two number containing this file: ', A+B)"
   ]
  },
  {
   "cell_type": "markdown",
   "id": "0422ed6b",
   "metadata": {},
   "source": [
    "***3. Consider 2 sets of integers, A and B, are stored in arrays.\n",
    "Write a program to find the number of (possibly overlapping)\n",
    "occurrences of the sequence B in A.***"
   ]
  },
  {
   "cell_type": "code",
   "execution_count": 13,
   "id": "6547189b",
   "metadata": {},
   "outputs": [
    {
     "name": "stdout",
     "output_type": "stream",
     "text": [
      "Enter sequence A: 1 2 47 1 2 85 4 21 1 1 4 85 1 2 1 2 1 54 1 6 85 41 12 1 1 52 1 2 41 1 2 1 51 2\n",
      "Enter sequence B: 1 2\n"
     ]
    }
   ],
   "source": [
    "A = list(map(int,input('Enter sequence A: ').split()))\n",
    "B = list(map(int,input('Enter sequence B: ').split()))"
   ]
  },
  {
   "cell_type": "code",
   "execution_count": 14,
   "id": "a9897ec9",
   "metadata": {},
   "outputs": [
    {
     "data": {
      "text/plain": [
       "[1, 2, 1, 2, 1, 1, 1, 2, 1, 2, 1, 1, 1, 1, 1, 2, 1, 2, 1, 2]"
      ]
     },
     "execution_count": 14,
     "metadata": {},
     "output_type": "execute_result"
    }
   ],
   "source": [
    "for i in range(len(A)):\n",
    "    for j in A:\n",
    "            if j not in B:\n",
    "                A.remove(j)\n",
    "A"
   ]
  },
  {
   "cell_type": "code",
   "execution_count": 15,
   "id": "05fe6db5",
   "metadata": {},
   "outputs": [],
   "source": [
    "j = 0\n",
    "count = 0\n",
    "for i in range(len(A)):\n",
    "    if A[i] == B[j]:\n",
    "        j = (j+1)%2\n",
    "        if j == 0:\n",
    "            count += 1"
   ]
  },
  {
   "cell_type": "code",
   "execution_count": 16,
   "id": "b2c18ae4",
   "metadata": {},
   "outputs": [
    {
     "data": {
      "text/plain": [
       "7"
      ]
     },
     "execution_count": 16,
     "metadata": {},
     "output_type": "execute_result"
    }
   ],
   "source": [
    "count"
   ]
  }
 ],
 "metadata": {
  "kernelspec": {
   "display_name": "Python 3 (ipykernel)",
   "language": "python",
   "name": "python3"
  },
  "language_info": {
   "codemirror_mode": {
    "name": "ipython",
    "version": 3
   },
   "file_extension": ".py",
   "mimetype": "text/x-python",
   "name": "python",
   "nbconvert_exporter": "python",
   "pygments_lexer": "ipython3",
   "version": "3.10.2"
  }
 },
 "nbformat": 4,
 "nbformat_minor": 5
}
